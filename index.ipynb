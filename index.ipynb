{
 "cells": [
  {
   "cell_type": "markdown",
   "metadata": {},
   "source": [
    "# Exponential Distributions - Lab\n",
    "\n",
    "## Introduction\n",
    "\n",
    "In this lesson, we'll make use of our newfound knowledge of the **_Exponential Distribution_** to answer some real-world questions!\n",
    "\n",
    "## Objectives\n",
    "\n",
    "You will be able to:\n",
    "\n",
    "* Identify use cases for the exponential distribution\n",
    "* Calculate the probability of events that follow an exponential distribution\n",
    "\n",
    "\n",
    "## Getting Started\n",
    "\n",
    "Before we can begin answering questions, it will probably be helpful to write some Python functions to quickly calculate the **PDF** and **CDF** for us.  \n",
    "\n",
    "For reference, here are the functions we'll want to implement.\n",
    "\n",
    "### Probability Density Function\n",
    "\n",
    "$$PDF(x) = \\lambda e^{- \\lambda x}$$\n",
    "\n",
    "###   Cumulative Density Function\n",
    "\n",
    "$$CDF(x) = 1 - e^{- \\lambda x}$$\n",
    "\n",
    "In the cell below, complete the following functions."
   ]
  },
  {
   "cell_type": "code",
   "execution_count": 1,
   "metadata": {},
   "outputs": [],
   "source": [
    "import numpy as np\n",
    "\n",
    "def exp_pdf(mu, x):\n",
    "    lamb = 1 / mu\n",
    "    return lamb * np.exp(- lamb * x)\n",
    "def exp_cdf(mu, x):\n",
    "    lamb = 1 / mu\n",
    "    return 1 - np.exp(- lamb * x)"
   ]
  },
  {
   "cell_type": "markdown",
   "metadata": {},
   "source": [
    "Great! Now, lets answer some questions.\n",
    "\n",
    "## Question 1 \n",
    "\n",
    "Steven is picking up a friend at the airport and their plane is late. The late flight is 22 minutes behind schedule.  What is the probability that Steven will wait 30 minutes or less for his friend's flight to land?"
   ]
  },
  {
   "cell_type": "code",
   "execution_count": 2,
   "metadata": {},
   "outputs": [
    {
     "data": {
      "text/plain": [
       "0.7442708400868994"
      ]
     },
     "execution_count": 2,
     "metadata": {},
     "output_type": "execute_result"
    }
   ],
   "source": [
    "# Expected Output: 0.7442708400868994\n",
    "\n",
    "exp_cdf(22, 30)"
   ]
  },
  {
   "cell_type": "markdown",
   "metadata": {},
   "source": [
    "## Question 2\n",
    "\n",
    "The average student takes 44 minutes to complete a test.  What is the probability that the fastest student in the class will take more than 38 minutes to complete the test?"
   ]
  },
  {
   "cell_type": "code",
   "execution_count": 5,
   "metadata": {},
   "outputs": [
    {
     "data": {
      "text/plain": [
       "0.4216261054870035"
      ]
     },
     "execution_count": 5,
     "metadata": {},
     "output_type": "execute_result"
    }
   ],
   "source": [
    "# Expected Output: 0.4216261054870035\n",
    "1 - exp_cdf(44, 38)"
   ]
  },
  {
   "cell_type": "markdown",
   "metadata": {},
   "source": [
    "## Question 3\n",
    "\n",
    "The first customer of the day walks into a store 6 minutes after the store opens, on average.  What is the probability that a customer shows up within 8 minutes of opening tomorrow?"
   ]
  },
  {
   "cell_type": "code",
   "execution_count": 7,
   "metadata": {},
   "outputs": [
    {
     "data": {
      "text/plain": [
       "0.7364028618842733"
      ]
     },
     "execution_count": 7,
     "metadata": {},
     "output_type": "execute_result"
    }
   ],
   "source": [
    "# Expected Output: 0.7364028618842733\n",
    "\n",
    "exp_cdf(6, 8)"
   ]
  },
  {
   "cell_type": "markdown",
   "metadata": {},
   "source": [
    "## Question 4\n",
    "\n",
    "The average interval that calls come in at a call center is 8 seconds. Plot the probability density function for a call happening at each second between 0 and 30 seconds (you can look at intervals of 0.5 seconds only.\n",
    "\n",
    "\n",
    "What is the probability that the next call will happen in 7 seconds?"
   ]
  },
  {
   "cell_type": "code",
   "execution_count": 11,
   "metadata": {},
   "outputs": [
    {
     "data": {
      "text/plain": [
       "0.05210775245981355"
      ]
     },
     "execution_count": 11,
     "metadata": {},
     "output_type": "execute_result"
    },
    {
     "data": {
      "image/png": "[encoded data removed]",
      "text/plain": [
       "<Figure size 432x288 with 1 Axes>"
      ]
     },
     "metadata": {
      "needs_background": "light"
     },
     "output_type": "display_data"
    }
   ],
   "source": [
    "# Create a list to contain the pdf-values\n",
    "interval = np.linspace(0, 30, num=60)\n",
    "pdf_vals = []\n",
    "for i in interval:\n",
    "    pdf_vals.append(exp_pdf(8, i))\n",
    "# Create the plot\n",
    "import matplotlib.pyplot as plt\n",
    "plt.plot(interval, pdf_vals);\n",
    "\n",
    "exp_pdf(8, 7)"
   ]
  },
  {
   "cell_type": "markdown",
   "metadata": {},
   "source": [
    "## Question 5\n",
    "\n",
    "The average earthquake in a given region happens every 7 weeks.  What is probability that the next earthquake happens between 5 and 8 weeks from now?\n",
    "\n",
    "**_Hint:_** This has both an upper and lower bound.  You'll need to do some arithmetic to solve this one. "
   ]
  },
  {
   "cell_type": "code",
   "execution_count": 12,
   "metadata": {},
   "outputs": [
    {
     "name": "stdout",
     "output_type": "stream",
     "text": [
      "Probability of earthquake before 5 weeks: 51.045834044304684%\n",
      "Probability of earthquake before 8 weeks: 68.10934426760295%\n",
      "Probability of earthquake between 5 - 8 weeks: 17.063510223298273%\n"
     ]
    }
   ],
   "source": [
    "lower_bound = exp_cdf(7, 5)\n",
    "upper_bound  = exp_cdf(7, 8)\n",
    "\n",
    "print(\"Probability of earthquake before 5 weeks: {}%\".format(lower_bound * 100))\n",
    "print(\"Probability of earthquake before 8 weeks: {}%\".format(upper_bound * 100))\n",
    "print(\"Probability of earthquake between 5 - 8 weeks: {}%\".format((upper_bound - lower_bound) * 100))\n",
    "\n",
    "# Expected Output: \n",
    "# \n",
    "# Probability of earthquake before 5 weeks: 51.045834044304684%\n",
    "# Probability of earthquake before 8 weeks: 68.10934426760295%\n",
    "# Probability of earthquake between 5 - 8 weeks: 17.063510223298273%"
   ]
  },
  {
   "cell_type": "markdown",
   "metadata": {},
   "source": [
    "## Summary\n",
    "\n",
    "In this lesson, you solved some real-world problems using the PDF and CDF for the Exponential Distribution!"
   ]
  }
 ],
 "metadata": {
  "kernelspec": {
   "display_name": "learn-env",
   "language": "python",
   "name": "learn-env"
  },
  "language_info": {
   "codemirror_mode": {
    "name": "ipython",
    "version": 3
   },
   "file_extension": ".py",
   "mimetype": "text/x-python",
   "name": "python",
   "nbconvert_exporter": "python",
   "pygments_lexer": "ipython3",
   "version": "3.6.9"
  },
  "toc": {
   "base_numbering": 1,
   "nav_menu": {},
   "number_sections": true,
   "sideBar": true,
   "skip_h1_title": false,
   "title_cell": "Table of Contents",
   "title_sidebar": "Contents",
   "toc_cell": false,
   "toc_position": {},
   "toc_section_display": true,
   "toc_window_display": false
  },
  "varInspector": {
   "cols": {
    "lenName": 16,
    "lenType": 16,
    "lenVar": 40
   },
   "kernels_config": {
    "python": {
     "delete_cmd_postfix": "",
     "delete_cmd_prefix": "del ",
     "library": "var_list.py",
     "varRefreshCmd": "print(var_dic_list())"
    },
    "r": {
     "delete_cmd_postfix": ") ",
     "delete_cmd_prefix": "rm(",
     "library": "var_list.r",
     "varRefreshCmd": "cat(var_dic_list()) "
    }
   },
   "types_to_exclude": [
    "module",
    "function",
    "builtin_function_or_method",
    "instance",
    "_Feature"
   ],
   "window_display": false
  }
 },
 "nbformat": 4,
 "nbformat_minor": 2
}
